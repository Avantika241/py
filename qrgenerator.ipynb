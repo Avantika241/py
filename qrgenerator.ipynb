{
 "cells": [
  {
   "cell_type": "code",
   "execution_count": 2,
   "id": "5d822ae2-4983-4ce9-aeaa-ab6486e2f8cb",
   "metadata": {},
   "outputs": [
    {
     "name": "stdout",
     "output_type": "stream",
     "text": [
      "Collecting qrcode\n",
      "  Downloading qrcode-7.4.2-py3-none-any.whl.metadata (17 kB)\n",
      "Collecting typing-extensions (from qrcode)\n",
      "  Downloading typing_extensions-4.11.0-py3-none-any.whl.metadata (3.0 kB)\n",
      "Collecting pypng (from qrcode)\n",
      "  Downloading pypng-0.20220715.0-py3-none-any.whl.metadata (13 kB)\n",
      "Requirement already satisfied: colorama in c:\\users\\devas\\appdata\\local\\programs\\python\\python312\\lib\\site-packages (from qrcode) (0.4.6)\n",
      "Downloading qrcode-7.4.2-py3-none-any.whl (46 kB)\n",
      "   ---------------------------------------- 0.0/46.2 kB ? eta -:--:--\n",
      "   ----------------------------------- ---- 41.0/46.2 kB 1.9 MB/s eta 0:00:01\n",
      "   ---------------------------------------- 46.2/46.2 kB 765.0 kB/s eta 0:00:00\n",
      "Downloading pypng-0.20220715.0-py3-none-any.whl (58 kB)\n",
      "   ---------------------------------------- 0.0/58.1 kB ? eta -:--:--\n",
      "   ---------------------------------------- 58.1/58.1 kB 3.0 MB/s eta 0:00:00\n",
      "Downloading typing_extensions-4.11.0-py3-none-any.whl (34 kB)\n",
      "Installing collected packages: pypng, typing-extensions, qrcode\n",
      "Successfully installed pypng-0.20220715.0 qrcode-7.4.2 typing-extensions-4.11.0\n",
      "Note: you may need to restart the kernel to use updated packages.\n"
     ]
    }
   ],
   "source": [
    "pip install qrcode //import the qrcode module//"
   ]
  },
  {
   "cell_type": "code",
   "execution_count": 4,
   "id": "39b576cf-cbca-4116-a87c-fec4115c9d34",
   "metadata": {},
   "outputs": [],
   "source": [
    "import qrcode as qr\n",
    "img= qr.make(\"https://www.youtube.com/watch?v=3QHnts_iOO0\") //here qrcode is genrated with given link\n",
    "img.save(\"my_Youtube.png\") //qrcode image name"
   ]
  },
  {
   "cell_type": "code",
   "execution_count": 1,
   "id": "a404e460-62dd-4420-81d1-0f743edfdb79",
   "metadata": {},
   "outputs": [
    {
     "name": "stdout",
     "output_type": "stream",
     "text": [
      "Collecting pyzbar\n",
      "  Downloading pyzbar-0.1.9-py2.py3-none-win_amd64.whl.metadata (10 kB)\n",
      "Downloading pyzbar-0.1.9-py2.py3-none-win_amd64.whl (817 kB)\n",
      "   ---------------------------------------- 0.0/817.4 kB ? eta -:--:--\n",
      "    --------------------------------------- 10.2/817.4 kB ? eta -:--:--\n",
      "   - ------------------------------------- 41.0/817.4 kB 667.8 kB/s eta 0:00:02\n",
      "   -------------- ------------------------- 297.0/817.4 kB 2.6 MB/s eta 0:00:01\n",
      "   ---------------------------------------  809.0/817.4 kB 6.4 MB/s eta 0:00:01\n",
      "   ---------------------------------------- 817.4/817.4 kB 5.2 MB/s eta 0:00:00\n",
      "Installing collected packages: pyzbar\n",
      "Successfully installed pyzbar-0.1.9\n",
      "Note: you may need to restart the kernel to use updated packages.\n"
     ]
    }
   ],
   "source": [
    "pip install pyzbar\n"
   ]
  },
  {
   "cell_type": "code",
   "execution_count": 2,
   "id": "99796c31-0798-4c2b-9228-4d30f054e10f",
   "metadata": {},
   "outputs": [
    {
     "name": "stdout",
     "output_type": "stream",
     "text": [
      "Collecting pillow\n",
      "  Downloading pillow-10.3.0-cp312-cp312-win_amd64.whl.metadata (9.4 kB)\n",
      "Downloading pillow-10.3.0-cp312-cp312-win_amd64.whl (2.5 MB)\n",
      "   ---------------------------------------- 0.0/2.5 MB ? eta -:--:--\n",
      "   ---------------------------------------- 0.0/2.5 MB ? eta -:--:--\n",
      "    --------------------------------------- 0.1/2.5 MB 825.8 kB/s eta 0:00:03\n",
      "   ----- ---------------------------------- 0.4/2.5 MB 3.3 MB/s eta 0:00:01\n",
      "   ----------------------- ---------------- 1.5/2.5 MB 9.4 MB/s eta 0:00:01\n",
      "   ---------------------------------------- 2.5/2.5 MB 11.6 MB/s eta 0:00:00\n",
      "Installing collected packages: pillow\n",
      "Successfully installed pillow-10.3.0\n",
      "Note: you may need to restart the kernel to use updated packages.\n"
     ]
    }
   ],
   "source": [
    "pip install pillow"
   ]
  },
  {
   "cell_type": "code",
   "execution_count": 5,
   "id": "d8fcb40e-7c1a-4d8f-a32a-49087cccf384",
   "metadata": {},
   "outputs": [
    {
     "name": "stdout",
     "output_type": "stream",
     "text": [
      "Requirement already satisfied: pyzbar in c:\\users\\devas\\appdata\\local\\programs\\python\\python312\\lib\\site-packages (0.1.9)Note: you may need to restart the kernel to use updated packages.\n",
      "\n"
     ]
    }
   ],
   "source": [
    "pip install pyzbar"
   ]
  },
  {
   "cell_type": "code",
   "execution_count": 6,
   "id": "f2354ec3-6ae8-4991-aeb8-4213d9b9b769",
   "metadata": {},
   "outputs": [
    {
     "name": "stdout",
     "output_type": "stream",
     "text": [
      "Requirement already satisfied: pillow in c:\\users\\devas\\appdata\\local\\programs\\python\\python312\\lib\\site-packages (10.3.0)\n",
      "Note: you may need to restart the kernel to use updated packages.\n"
     ]
    }
   ],
   "source": [
    "pip install pillow"
   ]
  },
  {
   "cell_type": "code",
   "execution_count": 7,
   "id": "4b79a630-e048-4509-bf15-1f54b17a23df",
   "metadata": {},
   "outputs": [
    {
     "name": "stdout",
     "output_type": "stream",
     "text": [
      "Requirement already satisfied: qrcode in c:\\users\\devas\\appdata\\local\\programs\\python\\python312\\lib\\site-packages (7.4.2)\n",
      "Requirement already satisfied: typing-extensions in c:\\users\\devas\\appdata\\local\\programs\\python\\python312\\lib\\site-packages (from qrcode) (4.11.0)\n",
      "Requirement already satisfied: pypng in c:\\users\\devas\\appdata\\local\\programs\\python\\python312\\lib\\site-packages (from qrcode) (0.20220715.0)\n",
      "Requirement already satisfied: colorama in c:\\users\\devas\\appdata\\local\\programs\\python\\python312\\lib\\site-packages (from qrcode) (0.4.6)\n",
      "Note: you may need to restart the kernel to use updated packages.\n"
     ]
    }
   ],
   "source": [
    "pip install qrcode"
   ]
  },
  {
   "cell_type": "code",
   "execution_count": null,
   "id": "881a9c48-22d1-4647-9127-89f4ca3ced0b",
   "metadata": {},
   "outputs": [],
   "source": [
    "import qrcode as qr\n",
    "from pyzbar.pyzbar import decode\n",
    "from PIL import Image\n",
    "\n",
    "img= qr.make(\"https://www.youtube.com/watch?v=3QHnts_iOO0\") \n",
    "img.save(\"my_Youtube.png\") \n",
    "\n",
    "b = decode(Image.open(\"my_Youtube.png\"))\n",
    "print(b[0].data.decoded(\"ascii\"))"
   ]
  }
 ],
 "metadata": {
  "kernelspec": {
   "display_name": "Python 3 (ipykernel)",
   "language": "python",
   "name": "python3"
  },
  "language_info": {
   "codemirror_mode": {
    "name": "ipython",
    "version": 3
   },
   "file_extension": ".py",
   "mimetype": "text/x-python",
   "name": "python",
   "nbconvert_exporter": "python",
   "pygments_lexer": "ipython3",
   "version": "3.12.2"
  }
 },
 "nbformat": 4,
 "nbformat_minor": 5
}
