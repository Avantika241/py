{
 "cells": [
  {
   "cell_type": "code",
   "execution_count": 1,
   "id": "b875de03-e1a5-4e1b-bbb9-9bbe3327af82",
   "metadata": {},
   "outputs": [
    {
     "name": "stdin",
     "output_type": "stream",
     "text": [
      "Eneter no.1 23\n",
      "Eneter no.2 12\n"
     ]
    },
    {
     "name": "stdout",
     "output_type": "stream",
     "text": [
      "addition is 35\n",
      "subtraction is 11\n"
     ]
    }
   ],
   "source": [
    "a1 = int(input('Eneter no.1'))\n",
    "a2 =  int(input('Eneter no.2'))\n",
    "add = a1+a2\n",
    "sub = a1-a2\n",
    "print('addition is', add)\n",
    "print('subtraction is', sub)"
   ]
  },
  {
   "cell_type": "code",
   "execution_count": 2,
   "id": "52d260ae-6cf1-49c8-b732-37f16c8cdb7c",
   "metadata": {},
   "outputs": [
    {
     "name": "stdin",
     "output_type": "stream",
     "text": [
      "Eneter height 12\n",
      "Eneter width 12\n"
     ]
    },
    {
     "name": "stdout",
     "output_type": "stream",
     "text": [
      "Area is 72.0\n"
     ]
    }
   ],
   "source": [
    "#3. Write a Python program to find the area of a triangle?\n",
    "hgt = int(input('Eneter height'))\n",
    "wdt = int(input('Eneter width'))\n",
    "Ar= 0.5*hgt*wdt\n",
    "print('Area is',Ar)\n"
   ]
  },
  {
   "cell_type": "code",
   "execution_count": 3,
   "id": "98d329ec-7ee2-404d-bae8-e09d872c9ead",
   "metadata": {},
   "outputs": [
    {
     "name": "stdin",
     "output_type": "stream",
     "text": [
      "Enter the value1 5\n",
      "Enter the value2 10\n"
     ]
    },
    {
     "name": "stdout",
     "output_type": "stream",
     "text": [
      "no. after swap 10\n",
      "no. after swap 5\n"
     ]
    }
   ],
   "source": [
    "#4. Write a Python program to swap two variables?\n",
    "x = int(input('Enter the value1'))\n",
    "y = int(input('Enter the value2'))\n",
    "temp = x\n",
    "x = y\n",
    "y = temp\n",
    "print('no. after swap',x)\n",
    "print('no. after swap',y)\n",
    "\n",
    "\n"
   ]
  },
  {
   "cell_type": "code",
   "execution_count": 8,
   "id": "22d39c07-2b1f-4109-93d3-5aa8888a0fbc",
   "metadata": {},
   "outputs": [
    {
     "name": "stdout",
     "output_type": "stream",
     "text": [
      "4\n"
     ]
    }
   ],
   "source": [
    "#5. Write a Python program to generate a random number?\n",
    "#import the random module\n",
    "import random\n",
    "print(random.randint(0,9))\n"
   ]
  },
  {
   "cell_type": "code",
   "execution_count": 11,
   "id": "18e1790f-4840-49e8-8cab-e0bc9ef3dea5",
   "metadata": {},
   "outputs": [
    {
     "name": "stdout",
     "output_type": "stream",
     "text": [
      "9\n"
     ]
    }
   ],
   "source": [
    "import random\n",
    "print(random.randint(0,9))"
   ]
  },
  {
   "cell_type": "code",
   "execution_count": 13,
   "id": "6fee6c80-9817-4261-8074-ee5874edeab9",
   "metadata": {},
   "outputs": [
    {
     "name": "stdout",
     "output_type": "stream",
     "text": [
      "45\n"
     ]
    }
   ],
   "source": [
    "#6. write a python program to randomly select an element from the list ?\n",
    "import random\n",
    "my_list = [1,'a',32,'w',45,'tr']\n",
    "print(random.choice(my_list))"
   ]
  },
  {
   "cell_type": "code",
   "execution_count": null,
   "id": "608ef818-d583-44ec-a620-b3b43facb04c",
   "metadata": {},
   "outputs": [],
   "source": []
  }
 ],
 "metadata": {
  "kernelspec": {
   "display_name": "Python 3 (ipykernel)",
   "language": "python",
   "name": "python3"
  },
  "language_info": {
   "codemirror_mode": {
    "name": "ipython",
    "version": 3
   },
   "file_extension": ".py",
   "mimetype": "text/x-python",
   "name": "python",
   "nbconvert_exporter": "python",
   "pygments_lexer": "ipython3",
   "version": "3.12.2"
  }
 },
 "nbformat": 4,
 "nbformat_minor": 5
}
